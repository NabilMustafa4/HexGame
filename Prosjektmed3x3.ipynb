{
 "cells": [
  {
   "cell_type": "code",
   "execution_count": 64,
   "metadata": {},
   "outputs": [
    {
     "name": "stdout",
     "output_type": "stream",
     "text": [
      "Generating 3x3 Hex dataset...\n",
      "Training the Improved Tsetlin Machine...\n",
      "Epoch 1/10\n",
      "Epoch 2/10\n",
      "Epoch 3/10\n",
      "Epoch 4/10\n",
      "Epoch 5/10\n",
      "Epoch 6/10\n",
      "Epoch 7/10\n",
      "Epoch 8/10\n",
      "Epoch 9/10\n",
      "Epoch 10/10\n",
      "Combining predictions with Logistic Regression...\n",
      "Performance Metrics:\n",
      "Accuracy: 0.4600, F1 Score: 0.2899, Precision: 0.2116, Recall: 0.4600\n"
     ]
    },
    {
     "name": "stderr",
     "output_type": "stream",
     "text": [
      "/opt/conda/lib/python3.11/site-packages/sklearn/metrics/_classification.py:1471: UndefinedMetricWarning: Precision is ill-defined and being set to 0.0 in labels with no predicted samples. Use `zero_division` parameter to control this behavior.\n",
      "  _warn_prf(average, modifier, msg_start, len(result))\n"
     ]
    },
    {
     "data": {
      "image/png": "[encoded data removed]",
      "text/plain": [
       "<Figure size 640x480 with 2 Axes>"
      ]
     },
     "metadata": {},
     "output_type": "display_data"
    },
    {
     "name": "stdout",
     "output_type": "stream",
     "text": [
      "Classification Report:\n",
      "              precision    recall  f1-score   support\n",
      "\n",
      "     Class 0       0.46      1.00      0.63       276\n",
      "     Class 1       0.00      0.00      0.00       324\n",
      "\n",
      "    accuracy                           0.46       600\n",
      "   macro avg       0.23      0.50      0.32       600\n",
      "weighted avg       0.21      0.46      0.29       600\n",
      "\n"
     ]
    },
    {
     "name": "stderr",
     "output_type": "stream",
     "text": [
      "/opt/conda/lib/python3.11/site-packages/sklearn/metrics/_classification.py:1471: UndefinedMetricWarning: Precision and F-score are ill-defined and being set to 0.0 in labels with no predicted samples. Use `zero_division` parameter to control this behavior.\n",
      "  _warn_prf(average, modifier, msg_start, len(result))\n",
      "/opt/conda/lib/python3.11/site-packages/sklearn/metrics/_classification.py:1471: UndefinedMetricWarning: Precision and F-score are ill-defined and being set to 0.0 in labels with no predicted samples. Use `zero_division` parameter to control this behavior.\n",
      "  _warn_prf(average, modifier, msg_start, len(result))\n",
      "/opt/conda/lib/python3.11/site-packages/sklearn/metrics/_classification.py:1471: UndefinedMetricWarning: Precision and F-score are ill-defined and being set to 0.0 in labels with no predicted samples. Use `zero_division` parameter to control this behavior.\n",
      "  _warn_prf(average, modifier, msg_start, len(result))\n"
     ]
    },
    {
     "data": {
      "text/plain": [
       "'\\nForbedringer inkludert:\\n- Realistiske funksjoner for Hex-brettet.\\n- Hybridmodell for bedre generalisering.\\n- Cross-Validation for mer robust evaluering.\\n'"
      ]
     },
     "execution_count": 64,
     "metadata": {},
     "output_type": "execute_result"
    }
   ],
   "source": [
    "import numpy as np\n",
    "import pandas as pd\n",
    "from sklearn.metrics import accuracy_score, f1_score, precision_score, recall_score, confusion_matrix, ConfusionMatrixDisplay, classification_report\n",
    "from sklearn.model_selection import train_test_split\n",
    "from sklearn.utils import resample\n",
    "from sklearn.linear_model import LogisticRegression\n",
    "import matplotlib.pyplot as plt\n",
    "\n",
    "class ImprovedTsetlinMachine:\n",
    "    def __init__(self, num_clauses, num_features, threshold, s):\n",
    "        self.num_clauses = num_clauses\n",
    "        self.num_features = num_features\n",
    "        self.threshold = threshold\n",
    "        self.s = s\n",
    "        self.clauses = np.random.choice([1, -1], size=(num_clauses, num_features))\n",
    "        self.weights = np.zeros((num_clauses,))\n",
    "\n",
    "    def fit(self, X, y, epochs=10):\n",
    "        for epoch in range(epochs):\n",
    "            for i, x in enumerate(X):\n",
    "                self._update(x, y[i])\n",
    "\n",
    "    def predict(self, X):\n",
    "        clause_outputs = np.sign(np.dot(self.clauses, X.T))\n",
    "        decisions = np.sum(self.weights[:, None] * clause_outputs, axis=0)\n",
    "        return np.where(decisions > 0, 1, 0)\n",
    "\n",
    "    def _update(self, x, y):\n",
    "        clause_outputs = np.sign(np.dot(self.clauses, x))\n",
    "        decision = np.sum(self.weights * clause_outputs)\n",
    "        correct = (decision > 0) == (y == 1)\n",
    "        for i in range(self.num_clauses):\n",
    "            if correct:\n",
    "                self.weights[i] = np.clip(self.weights[i] + clause_outputs[i] * 0.1, -self.threshold, self.threshold)\n",
    "            else:\n",
    "                self.weights[i] = np.clip(self.weights[i] - clause_outputs[i] * 0.2, -self.threshold, self.threshold)\n",
    "\n",
    "def generate_hex_3x3_dataset(num_samples):\n",
    "    np.random.seed(42)\n",
    "    X_base = np.random.randint(0, 2, size=(num_samples, 9))\n",
    "    row_sums = X_base.reshape(num_samples, 3, 3).sum(axis=1)\n",
    "    col_sums = X_base.reshape(num_samples, 3, 3).sum(axis=2)\n",
    "    total_sum = X_base.sum(axis=1).reshape(-1, 1)\n",
    "    X = np.hstack((X_base, row_sums, col_sums, total_sum))\n",
    "    y = np.random.choice([0, 1], size=num_samples)\n",
    "    return X, y\n",
    "\n",
    "def hybrid_model(X_train, y_train, X_test):\n",
    "    model = LogisticRegression(max_iter=1000)\n",
    "    model.fit(X_train, y_train)\n",
    "    return model.predict(X_test)\n",
    "\n",
    "X, y = generate_hex_3x3_dataset(num_samples=3000)\n",
    "X_train, X_test, y_train, y_test = train_test_split(X, y, test_size=0.2, random_state=42)\n",
    "\n",
    "train_data = pd.DataFrame(X_train)\n",
    "train_data['label'] = y_train\n",
    "max_class_size = train_data['label'].value_counts().max()\n",
    "balanced_data = [resample(train_data[train_data['label'] == label], replace=True, n_samples=max_class_size, random_state=42) for label in train_data['label'].unique()]\n",
    "balanced_data = pd.concat(balanced_data)\n",
    "X_train_balanced = balanced_data.drop('label', axis=1).values\n",
    "y_train_balanced = balanced_data['label'].values\n",
    "\n",
    "tsetlin_model = ImprovedTsetlinMachine(num_clauses=5000, num_features=X.shape[1], threshold=300, s=3.0)\n",
    "tsetlin_model.fit(X_train_balanced, y_train_balanced, epochs=10)\n",
    "\n",
    "hybrid_predictions = hybrid_model(X_train_balanced, y_train_balanced, X_test)\n",
    "tsetlin_predictions = tsetlin_model.predict(X_test)\n",
    "final_predictions = (tsetlin_predictions + hybrid_predictions) // 2\n",
    "\n",
    "accuracy = accuracy_score(y_test, final_predictions)\n",
    "f1 = f1_score(y_test, final_predictions, average='weighted')\n",
    "precision = precision_score(y_test, final_predictions, average='weighted')\n",
    "recall = recall_score(y_test, final_predictions, average='weighted')\n",
    "\n",
    "print(\"Performance Metrics:\")\n",
    "print(f\"Accuracy: {accuracy:.4f}, F1 Score: {f1:.4f}, Precision: {precision:.4f}, Recall: {recall:.4f}\")\n",
    "\n",
    "tsetlin_cm = confusion_matrix(y_test, final_predictions)\n",
    "disp = ConfusionMatrixDisplay(confusion_matrix=tsetlin_cm, display_labels=[0, 1])\n",
    "disp.plot(cmap=\"Blues\")\n",
    "plt.title(\"Confusion Matrix - Hybrid Model\")\n",
    "plt.show()\n",
    "\n",
    "print(\"Classification Report:\")\n",
    "print(classification_report(y_test, final_predictions, target_names=[\"Class 0\", \"Class 1\"]))\n"
   ]
  }
 ],
 "metadata": {
  "kernelspec": {
   "display_name": "Python 3 (ipykernel)",
   "language": "python",
   "name": "python3"
  },
  "language_info": {
   "codemirror_mode": {
    "name": "ipython",
    "version": 3
   },
   "file_extension": ".py",
   "mimetype": "text/x-python",
   "name": "python",
   "nbconvert_exporter": "python",
   "pygments_lexer": "ipython3",
   "version": "3.11.6"
  }
 },
 "nbformat": 4,
 "nbformat_minor": 2
}
